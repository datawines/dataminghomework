{
 "cells": [
  {
   "cell_type": "code",
   "execution_count": 1,
   "metadata": {},
   "outputs": [],
   "source": [
    "%matplotlib inline\n",
    "import matplotlib.pyplot as plt\n",
    "import numpy as np\n",
    "import pandas as pd\n",
    "\n",
    "data=pd.read_csv(\"wine-reviews/winemag-data_first150k.csv\")\n",
    "\n",
    "plt.style.use(\"ggplot\")\n",
    "plt.rcParams['axes.unicode_minus'] = False\n",
    "plt.rcParams['font.sans-serif']=['SimHei']"
   ]
  },
  {
   "cell_type": "markdown",
   "metadata": {},
   "source": [
    "# 1.对标称属性统计每个可能取值的频数"
   ]
  },
  {
   "cell_type": "code",
   "execution_count": 2,
   "metadata": {},
   "outputs": [
    {
     "data": {
      "text/html": [
       "<div>\n",
       "<style scoped>\n",
       "    .dataframe tbody tr th:only-of-type {\n",
       "        vertical-align: middle;\n",
       "    }\n",
       "\n",
       "    .dataframe tbody tr th {\n",
       "        vertical-align: top;\n",
       "    }\n",
       "\n",
       "    .dataframe thead th {\n",
       "        text-align: right;\n",
       "    }\n",
       "</style>\n",
       "<table border=\"1\" class=\"dataframe\">\n",
       "  <thead>\n",
       "    <tr style=\"text-align: right;\">\n",
       "      <th></th>\n",
       "      <th>Unnamed: 0</th>\n",
       "      <th>country</th>\n",
       "      <th>description</th>\n",
       "      <th>designation</th>\n",
       "      <th>points</th>\n",
       "      <th>price</th>\n",
       "      <th>province</th>\n",
       "      <th>region_1</th>\n",
       "      <th>region_2</th>\n",
       "      <th>variety</th>\n",
       "      <th>winery</th>\n",
       "    </tr>\n",
       "  </thead>\n",
       "  <tbody>\n",
       "    <tr>\n",
       "      <th>0</th>\n",
       "      <td>0</td>\n",
       "      <td>US</td>\n",
       "      <td>This tremendous 100% varietal wine hails from ...</td>\n",
       "      <td>Martha's Vineyard</td>\n",
       "      <td>96</td>\n",
       "      <td>235.0</td>\n",
       "      <td>California</td>\n",
       "      <td>Napa Valley</td>\n",
       "      <td>Napa</td>\n",
       "      <td>Cabernet Sauvignon</td>\n",
       "      <td>Heitz</td>\n",
       "    </tr>\n",
       "    <tr>\n",
       "      <th>1</th>\n",
       "      <td>1</td>\n",
       "      <td>Spain</td>\n",
       "      <td>Ripe aromas of fig, blackberry and cassis are ...</td>\n",
       "      <td>Carodorum Selección Especial Reserva</td>\n",
       "      <td>96</td>\n",
       "      <td>110.0</td>\n",
       "      <td>Northern Spain</td>\n",
       "      <td>Toro</td>\n",
       "      <td>NaN</td>\n",
       "      <td>Tinta de Toro</td>\n",
       "      <td>Bodega Carmen Rodríguez</td>\n",
       "    </tr>\n",
       "    <tr>\n",
       "      <th>2</th>\n",
       "      <td>2</td>\n",
       "      <td>US</td>\n",
       "      <td>Mac Watson honors the memory of a wine once ma...</td>\n",
       "      <td>Special Selected Late Harvest</td>\n",
       "      <td>96</td>\n",
       "      <td>90.0</td>\n",
       "      <td>California</td>\n",
       "      <td>Knights Valley</td>\n",
       "      <td>Sonoma</td>\n",
       "      <td>Sauvignon Blanc</td>\n",
       "      <td>Macauley</td>\n",
       "    </tr>\n",
       "  </tbody>\n",
       "</table>\n",
       "</div>"
      ],
      "text/plain": [
       "   Unnamed: 0 country                                        description  \\\n",
       "0           0      US  This tremendous 100% varietal wine hails from ...   \n",
       "1           1   Spain  Ripe aromas of fig, blackberry and cassis are ...   \n",
       "2           2      US  Mac Watson honors the memory of a wine once ma...   \n",
       "\n",
       "                            designation  points  price        province  \\\n",
       "0                     Martha's Vineyard      96  235.0      California   \n",
       "1  Carodorum Selección Especial Reserva      96  110.0  Northern Spain   \n",
       "2         Special Selected Late Harvest      96   90.0      California   \n",
       "\n",
       "         region_1 region_2             variety                   winery  \n",
       "0     Napa Valley     Napa  Cabernet Sauvignon                    Heitz  \n",
       "1            Toro      NaN       Tinta de Toro  Bodega Carmen Rodríguez  \n",
       "2  Knights Valley   Sonoma     Sauvignon Blanc                 Macauley  "
      ]
     },
     "execution_count": 2,
     "metadata": {},
     "output_type": "execute_result"
    }
   ],
   "source": [
    "data.head(3)"
   ]
  },
  {
   "cell_type": "code",
   "execution_count": 3,
   "metadata": {
    "collapsed": true
   },
   "outputs": [
    {
     "data": {
      "text/plain": [
       "US                        62397\n",
       "Italy                     23478\n",
       "France                    21098\n",
       "Spain                      8268\n",
       "Chile                      5816\n",
       "Argentina                  5631\n",
       "Portugal                   5322\n",
       "Australia                  4957\n",
       "New Zealand                3320\n",
       "Austria                    3057\n",
       "Germany                    2452\n",
       "South Africa               2258\n",
       "Greece                      884\n",
       "Israel                      630\n",
       "Hungary                     231\n",
       "Canada                      196\n",
       "Romania                     139\n",
       "Slovenia                     94\n",
       "Uruguay                      92\n",
       "Croatia                      89\n",
       "Bulgaria                     77\n",
       "Moldova                      71\n",
       "Mexico                       63\n",
       "Turkey                       52\n",
       "Georgia                      43\n",
       "Lebanon                      37\n",
       "Cyprus                       31\n",
       "Brazil                       25\n",
       "Macedonia                    16\n",
       "Serbia                       14\n",
       "Morocco                      12\n",
       "England                       9\n",
       "Luxembourg                    9\n",
       "Lithuania                     8\n",
       "India                         8\n",
       "Czech Republic                6\n",
       "Ukraine                       5\n",
       "South Korea                   4\n",
       "Switzerland                   4\n",
       "Bosnia and Herzegovina        4\n",
       "Slovakia                      3\n",
       "China                         3\n",
       "Egypt                         3\n",
       "Tunisia                       2\n",
       "Japan                         2\n",
       "Montenegro                    2\n",
       "Albania                       2\n",
       "US-France                     1\n",
       "Name: country, dtype: int64"
      ]
     },
     "execution_count": 3,
     "metadata": {},
     "output_type": "execute_result"
    }
   ],
   "source": [
    "data.country.value_counts()"
   ]
  },
  {
   "cell_type": "code",
   "execution_count": 4,
   "metadata": {
    "collapsed": true
   },
   "outputs": [
    {
     "data": {
      "text/plain": [
       "California                       44508\n",
       "Washington                        9750\n",
       "Tuscany                           7281\n",
       "Bordeaux                          6111\n",
       "Northern Spain                    4892\n",
       "Mendoza Province                  4742\n",
       "Oregon                            4589\n",
       "Burgundy                          4308\n",
       "Piedmont                          4093\n",
       "Veneto                            3962\n",
       "South Australia                   3004\n",
       "Sicily & Sardinia                 2545\n",
       "New York                          2428\n",
       "Northeastern Italy                1982\n",
       "Loire Valley                      1786\n",
       "Alsace                            1680\n",
       "Marlborough                       1655\n",
       "Southwest France                  1601\n",
       "Central Italy                     1530\n",
       "Southern Italy                    1439\n",
       "Champagne                         1370\n",
       "Catalonia                         1352\n",
       "Rhône Valley                      1318\n",
       "Colchagua Valley                  1201\n",
       "Languedoc-Roussillon              1082\n",
       "Douro                             1075\n",
       "Provence                          1021\n",
       "Port                               903\n",
       "Maipo Valley                       895\n",
       "Other                              889\n",
       "                                 ...  \n",
       "Ioannina                             1\n",
       "Krania Olympus                       1\n",
       "Colares                              1\n",
       "Cape South Coast                     1\n",
       "Santa Barbara County-Condrieu        1\n",
       "Pafos                                1\n",
       "Maipo Valley-Colchagua Valley        1\n",
       "Valais                               1\n",
       "Dalmatian Coast                      1\n",
       "Viile Carasului                      1\n",
       "Pocerina                             1\n",
       "Sterea Ellada                        1\n",
       "Serra do Sudeste                     1\n",
       "Stirling                             1\n",
       "Langenlois                           1\n",
       "Ella Valley                          1\n",
       "Dolenjska                            1\n",
       "Ticino                               1\n",
       "Waitaki Valley                       1\n",
       "Malgas                               1\n",
       "Nevada                               1\n",
       "Pannon                               1\n",
       "Martinborough Terrace                1\n",
       "Central Otago-Marlborough            1\n",
       "Elim                                 1\n",
       "Zitsa                                1\n",
       "Rose Valley                          1\n",
       "Colchagua Costa                      1\n",
       "Slovenska Istra                      1\n",
       "Casablanca-Curicó Valley             1\n",
       "Name: province, Length: 455, dtype: int64"
      ]
     },
     "execution_count": 4,
     "metadata": {},
     "output_type": "execute_result"
    }
   ],
   "source": [
    "data.province.value_counts()"
   ]
  },
  {
   "cell_type": "code",
   "execution_count": 5,
   "metadata": {
    "collapsed": true
   },
   "outputs": [
    {
     "data": {
      "text/plain": [
       "Napa Valley                                  6209\n",
       "Columbia Valley (WA)                         4975\n",
       "Mendoza                                      3586\n",
       "Russian River Valley                         3571\n",
       "California                                   3462\n",
       "Paso Robles                                  3053\n",
       "Willamette Valley                            2096\n",
       "Rioja                                        1893\n",
       "Toscana                                      1885\n",
       "Sonoma County                                1853\n",
       "Brunello di Montalcino                       1746\n",
       "Sicilia                                      1701\n",
       "Alsace                                       1574\n",
       "Sonoma Coast                                 1473\n",
       "Carneros                                     1458\n",
       "Barolo                                       1398\n",
       "Dry Creek Valley                             1398\n",
       "Finger Lakes                                 1372\n",
       "Champagne                                    1369\n",
       "Santa Barbara County                         1319\n",
       "Walla Walla Valley (WA)                      1225\n",
       "Yakima Valley                                1162\n",
       "Alexander Valley                             1139\n",
       "Chianti Classico                             1029\n",
       "Sta. Rita Hills                               983\n",
       "Sonoma Valley                                 971\n",
       "Santa Lucia Highlands                         962\n",
       "Central Coast                                 950\n",
       "Ribera del Duero                              899\n",
       "Santa Ynez Valley                             898\n",
       "                                             ... \n",
       "Santa Clara County                              1\n",
       "Galluccio                                       1\n",
       "Coteaux Champenois                              1\n",
       "McLaren Vale-Beechworth                         1\n",
       "Cour-Cheverny                                   1\n",
       "Catalanesca del Monte Somma                     1\n",
       "Moselle VDQS                                    1\n",
       "Vin de Pays de la Vallée de l’Aude              1\n",
       "Vin de Pays de Montferrand                      1\n",
       "Alta Valle della Greve                          1\n",
       "McLaren Vale-Langhorne Creek                    1\n",
       "Vin de Pays des Pyrénees Orientales             1\n",
       "Alpine Valleys                                  1\n",
       "Valpolicella Valpantena Superiore               1\n",
       "Napa-Sonoma-Marin                               1\n",
       "Colli Tortonesi                                 1\n",
       "Gambellara Classico                             1\n",
       "Monterey County-Napa County-Sonoma County       1\n",
       "Stanislaus County                               1\n",
       "Assisi                                          1\n",
       "Jujuy                                           1\n",
       "Napa County-Lake County                         1\n",
       "Mazoyeres-Chambertin                            1\n",
       "Napa County-Sonoma County-Lake County           1\n",
       "Nevada                                          1\n",
       "Vesuvio                                         1\n",
       "Muscadet Sèvre et Maine Clisson                 1\n",
       "Galatina                                        1\n",
       "Apremont                                        1\n",
       "Mendocino-Amador-Napa                           1\n",
       "Name: region_1, Length: 1236, dtype: int64"
      ]
     },
     "execution_count": 5,
     "metadata": {},
     "output_type": "execute_result"
    }
   ],
   "source": [
    "data.region_1.value_counts()"
   ]
  },
  {
   "cell_type": "code",
   "execution_count": 6,
   "metadata": {
    "collapsed": true
   },
   "outputs": [
    {
     "data": {
      "text/plain": [
       "Central Coast              13057\n",
       "Sonoma                     11258\n",
       "Columbia Valley             9157\n",
       "Napa                        8801\n",
       "California Other            3516\n",
       "Willamette Valley           3181\n",
       "Mendocino/Lake Counties     2389\n",
       "Sierra Foothills            1660\n",
       "Napa-Sonoma                 1645\n",
       "Finger Lakes                1510\n",
       "Central Valley              1115\n",
       "Long Island                  771\n",
       "Southern Oregon              662\n",
       "Oregon Other                 661\n",
       "North Coast                  632\n",
       "Washington Other             593\n",
       "South Coast                  198\n",
       "New York Other               147\n",
       "Name: region_2, dtype: int64"
      ]
     },
     "execution_count": 6,
     "metadata": {},
     "output_type": "execute_result"
    }
   ],
   "source": [
    "data.region_2.value_counts()"
   ]
  },
  {
   "cell_type": "code",
   "execution_count": 7,
   "metadata": {
    "collapsed": true
   },
   "outputs": [
    {
     "data": {
      "text/plain": [
       "Chardonnay                        14482\n",
       "Pinot Noir                        14291\n",
       "Cabernet Sauvignon                12800\n",
       "Red Blend                         10062\n",
       "Bordeaux-style Red Blend           7347\n",
       "Sauvignon Blanc                    6320\n",
       "Syrah                              5825\n",
       "Riesling                           5524\n",
       "Merlot                             5070\n",
       "Zinfandel                          3799\n",
       "Sangiovese                         3345\n",
       "Malbec                             3208\n",
       "White Blend                        2824\n",
       "Rosé                               2817\n",
       "Tempranillo                        2556\n",
       "Nebbiolo                           2241\n",
       "Portuguese Red                     2216\n",
       "Sparkling Blend                    2004\n",
       "Shiraz                             1970\n",
       "Corvina, Rondinella, Molinara      1682\n",
       "Rhône-style Red Blend              1505\n",
       "Barbera                            1365\n",
       "Pinot Gris                         1365\n",
       "Cabernet Franc                     1363\n",
       "Sangiovese Grosso                  1346\n",
       "Pinot Grigio                       1305\n",
       "Viognier                           1263\n",
       "Bordeaux-style White Blend         1261\n",
       "Champagne Blend                    1238\n",
       "Port                               1058\n",
       "                                  ...  \n",
       "Grolleau                              1\n",
       "Chardonnay-Pinot Grigio               1\n",
       "Syrah-Carignan                        1\n",
       "Pinotage-Merlot                       1\n",
       "Bombino Bianco                        1\n",
       "Muscat Hamburg                        1\n",
       "Chardonnay-Pinot Gris                 1\n",
       "Vidadillo                             1\n",
       "Baga-Touriga Nacional                 1\n",
       "Asprinio                              1\n",
       "Erbaluce                              1\n",
       "Malvoisie                             1\n",
       "Kuntra                                1\n",
       "Caprettone                            1\n",
       "Irsai Oliver                          1\n",
       "Tempranillo-Malbec                    1\n",
       "Moscato di Noto                       1\n",
       "Premsal                               1\n",
       "Macabeo-Gewürztraminer                1\n",
       "Sauvignon Blanc-Sauvignon Gris        1\n",
       "Orangetraube                          1\n",
       "Pinela                                1\n",
       "Albarossa                             1\n",
       "Cabernet Moravia                      1\n",
       "Carineña                              1\n",
       "Sacy                                  1\n",
       "Merlot-Petite Verdot                  1\n",
       "Carnelian                             1\n",
       "Früburgunder                          1\n",
       "Viura-Verdejo                         1\n",
       "Name: variety, Length: 632, dtype: int64"
      ]
     },
     "execution_count": 7,
     "metadata": {},
     "output_type": "execute_result"
    }
   ],
   "source": [
    "data.variety.value_counts()"
   ]
  },
  {
   "cell_type": "code",
   "execution_count": 8,
   "metadata": {
    "collapsed": true
   },
   "outputs": [
    {
     "data": {
      "text/plain": [
       "Williams Selyem                        374\n",
       "Testarossa                             274\n",
       "DFJ Vinhos                             258\n",
       "Chateau Ste. Michelle                  225\n",
       "Columbia Crest                         217\n",
       "Kendall-Jackson                        216\n",
       "Concha y Toro                          216\n",
       "Trapiche                               205\n",
       "Bouchard Père & Fils                   203\n",
       "Kenwood                                191\n",
       "Joseph Drouhin                         189\n",
       "De Loach                               189\n",
       "Georges Duboeuf                        188\n",
       "Cameron Hughes                         172\n",
       "Wines & Winemakers                     169\n",
       "Albert Bichot                          167\n",
       "Robert Mondavi                         166\n",
       "Louis Latour                           154\n",
       "Dry Creek Vineyard                     153\n",
       "Morgan                                 153\n",
       "D'Arenberg                             153\n",
       "Concannon                              151\n",
       "Martin Ray                             149\n",
       "Errazuriz                              148\n",
       "L'Ecole No. 41                         144\n",
       "Gary Farrell                           144\n",
       "Olivier Leflaive                       143\n",
       "Waterbrook                             142\n",
       "Iron Horse                             142\n",
       "Montes                                 142\n",
       "                                      ... \n",
       "Belharra                                 1\n",
       "Verismo                                  1\n",
       "Les Vignerons de Tautavel Vingrau        1\n",
       "Tenuta Pietramora                        1\n",
       "Le Torri di Campiglioni                  1\n",
       "Finca Villacreces                        1\n",
       "Château Martinat                         1\n",
       "Balthazar of the Barossa                 1\n",
       "Love Noir                                1\n",
       "Les Marionettes                          1\n",
       "El Sombrero                              1\n",
       "Sogno                                    1\n",
       "Cantina di Gambellara                    1\n",
       "Produttori Moscato d'Asti Associati      1\n",
       "Louis Chavy                              1\n",
       "Soho                                     1\n",
       "Corte Mainente                           1\n",
       "Domaine de la Pousse d'Or                1\n",
       "Javadi                                   1\n",
       "No Limit                                 1\n",
       "Quinta da Pedra                          1\n",
       "Denis Père et Fils                       1\n",
       "Matošević                                1\n",
       "The Sum                                  1\n",
       "Newell                                   1\n",
       "Cristiari                                1\n",
       "Château la Favière                       1\n",
       "Graceland                                1\n",
       "Bruno Hunold                             1\n",
       "San Giorgio di Perdomini                 1\n",
       "Name: winery, Length: 14810, dtype: int64"
      ]
     },
     "execution_count": 8,
     "metadata": {},
     "output_type": "execute_result"
    }
   ],
   "source": [
    "data.winery.value_counts()"
   ]
  },
  {
   "cell_type": "markdown",
   "metadata": {},
   "source": [
    "# 2.对数值属性求最大/最小/均值/中位数/四分位数/缺失值个数"
   ]
  },
  {
   "cell_type": "code",
   "execution_count": 9,
   "metadata": {},
   "outputs": [
    {
     "name": "stdout",
     "output_type": "stream",
     "text": [
      "------数值属性points------\n",
      "最大值： 100\n",
      "最小值： 80\n",
      "均　值： 87.8884184721394\n",
      "中位数： 88.0\n",
      "四分位数： 86.0 88.0 90.0\n",
      "缺失值数： 0\n"
     ]
    }
   ],
   "source": [
    "print(\"------数值属性points------\")\n",
    "print(\"最大值：\",max(data.points))\n",
    "print(\"最小值：\",min(data.points))\n",
    "print(\"均　值：\",data.points.mean())\n",
    "print(\"中位数：\",data.points.median())\n",
    "print(\"四分位数：\",data.points.quantile(.25),data.points.quantile(.5),data.points.quantile(.75))\n",
    "print(\"缺失值数：\",data.points.isnull().sum())"
   ]
  },
  {
   "cell_type": "code",
   "execution_count": 10,
   "metadata": {},
   "outputs": [
    {
     "name": "stdout",
     "output_type": "stream",
     "text": [
      "------数值属性price------\n",
      "最大值： 2300.0\n",
      "最小值： 4.0\n",
      "均　值： 33.13148249353299\n",
      "中位数： 24.0\n",
      "四分位数： 16.0 24.0 40.0\n",
      "缺失值数： 13695\n"
     ]
    }
   ],
   "source": [
    "print(\"------数值属性price------\")\n",
    "print(\"最大值：\",max(data.price))\n",
    "print(\"最小值：\",min(data.price))\n",
    "print(\"均　值：\",data.price.mean())\n",
    "print(\"中位数：\",data.price.median())\n",
    "print(\"四分位数：\",data.price.quantile(.25),data.price.quantile(.5),data.price.quantile(.75))\n",
    "print(\"缺失值数：\",data.price.isnull().sum())"
   ]
  },
  {
   "cell_type": "markdown",
   "metadata": {},
   "source": [
    "# 3.对数值属性绘制直方图/QQ图/盒图"
   ]
  },
  {
   "cell_type": "code",
   "execution_count": 11,
   "metadata": {},
   "outputs": [
    {
     "data": {
      "image/png": "[encoded data removed]",
      "text/plain": [
       "<matplotlib.figure.Figure at 0x132e6e974a8>"
      ]
     },
     "metadata": {},
     "output_type": "display_data"
    }
   ],
   "source": [
    "plt.hist(data.points,bins = 20,color = 'steelblue',edgecolor = 'k',label = 'points')\n",
    "plt.legend()\n",
    "plt.show()"
   ]
  },
  {
   "cell_type": "code",
   "execution_count": 12,
   "metadata": {
    "scrolled": true
   },
   "outputs": [
    {
     "data": {
      "image/png": "[encoded data removed]",
      "text/plain": [
       "<matplotlib.figure.Figure at 0x132e6e97978>"
      ]
     },
     "metadata": {},
     "output_type": "display_data"
    }
   ],
   "source": [
    "from scipy import stats\n",
    "stats.probplot(data.points, dist=\"norm\", plot=plt)\n",
    "plt.show()"
   ]
  },
  {
   "cell_type": "markdown",
   "metadata": {},
   "source": []
  },
  {
   "cell_type": "code",
   "execution_count": 13,
   "metadata": {},
   "outputs": [
    {
     "data": {
      "image/png": "[encoded data removed]",
      "text/plain": [
       "<matplotlib.figure.Figure at 0x132e6e97a90>"
      ]
     },
     "metadata": {},
     "output_type": "display_data"
    }
   ],
   "source": [
    "plt.boxplot(data.points)\n",
    "plt.show()"
   ]
  },
  {
   "cell_type": "markdown",
   "metadata": {},
   "source": [
    "### 根据QQ图可知，数值属性points服从正太分布；根据盒图可知，属性points存在若干数值较大的离群值"
   ]
  },
  {
   "cell_type": "markdown",
   "metadata": {},
   "source": [
    "# 4.处理属性price的缺失值"
   ]
  },
  {
   "cell_type": "markdown",
   "metadata": {},
   "source": [
    "## 4.1将缺失部分剔除"
   ]
  },
  {
   "cell_type": "code",
   "execution_count": 31,
   "metadata": {},
   "outputs": [
    {
     "data": {
      "image/png": "[encoded data removed]",
      "text/plain": [
       "<matplotlib.figure.Figure at 0x132e3b82b70>"
      ]
     },
     "metadata": {},
     "output_type": "display_data"
    },
    {
     "name": "stdout",
     "output_type": "stream",
     "text": [
      "0 0\n"
     ]
    }
   ],
   "source": [
    "drop_data=data.dropna(subset=['price'])\n",
    "plt.hist(drop_data.price,bins = 200,color = 'steelblue',edgecolor = 'k',label = 'price')\n",
    "plt.legend()\n",
    "plt.show()\n",
    "print(data.price.isnull().sum(),drop_data.price.isnull().sum())"
   ]
  },
  {
   "cell_type": "code",
   "execution_count": 15,
   "metadata": {},
   "outputs": [
    {
     "data": {
      "image/png": "[encoded data removed]",
      "text/plain": [
       "<matplotlib.figure.Figure at 0x132e0c61780>"
      ]
     },
     "metadata": {},
     "output_type": "display_data"
    }
   ],
   "source": [
    "stats.probplot(drop_data.price, dist=\"norm\", plot=plt)\n",
    "plt.show()"
   ]
  },
  {
   "cell_type": "code",
   "execution_count": 32,
   "metadata": {},
   "outputs": [
    {
     "data": {
      "image/png": "[encoded data removed]",
      "text/plain": [
       "<matplotlib.figure.Figure at 0x132e00c10f0>"
      ]
     },
     "metadata": {},
     "output_type": "display_data"
    }
   ],
   "source": [
    "plt.boxplot(drop_data.price)\n",
    "plt.show()"
   ]
  },
  {
   "cell_type": "markdown",
   "metadata": {},
   "source": [
    "## 4.2用最高频率值来填补缺失值"
   ]
  },
  {
   "cell_type": "markdown",
   "metadata": {},
   "source": [
    "### 由于price的数据大部分聚集在较小一侧，所以选择中值替换缺失值"
   ]
  },
  {
   "cell_type": "code",
   "execution_count": 33,
   "metadata": {},
   "outputs": [
    {
     "data": {
      "image/png": "[encoded data removed]",
      "text/plain": [
       "<matplotlib.figure.Figure at 0x132e2ce5cc0>"
      ]
     },
     "metadata": {},
     "output_type": "display_data"
    },
    {
     "name": "stdout",
     "output_type": "stream",
     "text": [
      "0 0\n"
     ]
    }
   ],
   "source": [
    "fill_median_data=data.price.fillna(data.price.median())\n",
    "plt.hist(fill_median_data,bins = 200,color = 'steelblue',edgecolor = 'k',label = 'price')\n",
    "plt.legend()\n",
    "plt.show()\n",
    "print(data.price.isnull().sum(),fill_median_data.isnull().sum())"
   ]
  }
 ],
 "metadata": {
  "kernelspec": {
   "display_name": "Python 3",
   "language": "python",
   "name": "python3"
  },
  "language_info": {
   "codemirror_mode": {
    "name": "ipython",
    "version": 3
   },
   "file_extension": ".py",
   "mimetype": "text/x-python",
   "name": "python",
   "nbconvert_exporter": "python",
   "pygments_lexer": "ipython3",
   "version": "3.6.4"
  }
 },
 "nbformat": 4,
 "nbformat_minor": 2
}
